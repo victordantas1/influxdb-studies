{
 "cells": [
  {
   "cell_type": "code",
   "execution_count": null,
   "metadata": {},
   "outputs": [],
   "source": [
    "import influxdb_client\n",
    "import pandas as pd"
   ]
  },
  {
   "cell_type": "code",
   "execution_count": null,
   "metadata": {},
   "outputs": [],
   "source": [
    "TOKEN = '80pzM9UJharBRVfSbBIfecydGJsX80ihx2IZsd7UmAZUhUumZTIiX9jUqQNytXPxeVuZlgLmHAY6JOyHnLZuJw=='\n",
    "URL = 'http://localhost:8086'\n",
    "ORG = 'VCT'\n",
    "BUCKET = 'HOUSE_HOLD_ENERGY'"
   ]
  },
  {
   "cell_type": "code",
   "execution_count": null,
   "metadata": {},
   "outputs": [],
   "source": [
    "client = influxdb_client.InfluxDBClient(url=URL, token=TOKEN, org=ORG,  timeout=30000)"
   ]
  },
  {
   "cell_type": "code",
   "execution_count": null,
   "metadata": {},
   "outputs": [],
   "source": [
    "query_api = client.query_api()"
   ]
  },
  {
   "cell_type": "code",
   "execution_count": null,
   "metadata": {},
   "outputs": [],
   "source": [
    "query = f'''\n",
    "from(bucket: \"{BUCKET}\")\n",
    "  |> range(start: 2007-01-01T00:00:00Z, stop: 2007-12-31T00:00:00Z)\n",
    "  |> filter(fn: (r) => r[\"_measurement\"] == \"house_energy\")\n",
    "  |> filter(fn: (r) => r[\"_field\"] == \"Global_active_power\" or \n",
    "                      r[\"_field\"] == \"Global_reactive_power\" or \n",
    "                      r[\"_field\"] == \"Voltage\" or \n",
    "                      r[\"_field\"] == \"Global_intensity\" or \n",
    "                      r[\"_field\"] == \"Sub_metering_1\" or \n",
    "                      r[\"_field\"] == \"Sub_metering_2\" or \n",
    "                      r[\"_field\"] == \"Sub_metering_3\")\n",
    "  |> pivot(rowKey:[\"_time\"], columnKey: [\"_field\"], valueColumn: \"_value\")\n",
    "'''"
   ]
  },
  {
   "cell_type": "code",
   "execution_count": null,
   "metadata": {},
   "outputs": [],
   "source": [
    "house_hold_energy_2007 = query_api.query_data_frame(query=query)"
   ]
  },
  {
   "cell_type": "code",
   "execution_count": null,
   "metadata": {},
   "outputs": [],
   "source": [
    "house_hold_energy_2007.info()"
   ]
  },
  {
   "cell_type": "markdown",
   "metadata": {},
   "source": [
    "#### Limpando dataframe"
   ]
  },
  {
   "cell_type": "markdown",
   "metadata": {},
   "source": [
    "##### Retirando dados desnecessários"
   ]
  },
  {
   "cell_type": "code",
   "execution_count": null,
   "metadata": {},
   "outputs": [],
   "source": [
    "house_hold_energy_2007.drop(columns=['result', 'table', '_start', '_stop', '_measurement'], inplace=True)\n",
    "house_hold_energy_2007.head(10)"
   ]
  },
  {
   "cell_type": "code",
   "execution_count": null,
   "metadata": {},
   "outputs": [],
   "source": [
    "columns_float = list(house_hold_energy_2007.iloc[:, 1:].columns)\n",
    "columns_float"
   ]
  },
  {
   "cell_type": "markdown",
   "metadata": {},
   "source": [
    "#### Encontrando dados nulos dados nulos"
   ]
  },
  {
   "cell_type": "code",
   "execution_count": null,
   "metadata": {},
   "outputs": [],
   "source": [
    "rows_null = house_hold_energy_2007.query('Global_active_power == \"?\"').index\n",
    "rows_null"
   ]
  },
  {
   "cell_type": "code",
   "execution_count": null,
   "metadata": {},
   "outputs": [],
   "source": [
    "house_hold_energy_2007.iloc[rows_null].head(10)"
   ]
  },
  {
   "cell_type": "code",
   "execution_count": null,
   "metadata": {},
   "outputs": [],
   "source": [
    "house_hold_energy_2007.replace(\"?\", 0.0, inplace=True)\n",
    "house_hold_energy_2007.iloc[rows_null].head(10)"
   ]
  },
  {
   "cell_type": "code",
   "execution_count": null,
   "metadata": {},
   "outputs": [],
   "source": [
    "house_hold_energy_2007.fillna(0.0, inplace=True)\n",
    "house_hold_energy_2007.iloc[rows_null].head(10)"
   ]
  },
  {
   "cell_type": "code",
   "execution_count": null,
   "metadata": {},
   "outputs": [],
   "source": [
    "house_hold_energy_2007.interpolate(inplace=True)\n",
    "house_hold_energy_2007.iloc[rows_null]"
   ]
  },
  {
   "cell_type": "markdown",
   "metadata": {},
   "source": [
    "#### Convertendo colunas numericas"
   ]
  },
  {
   "cell_type": "code",
   "execution_count": null,
   "metadata": {},
   "outputs": [],
   "source": [
    "house_hold_energy_2007[columns_float] = house_hold_energy_2007[columns_float].astype(float)"
   ]
  },
  {
   "cell_type": "code",
   "execution_count": null,
   "metadata": {},
   "outputs": [],
   "source": [
    "house_hold_energy_2007.info()"
   ]
  },
  {
   "cell_type": "markdown",
   "metadata": {},
   "source": [
    "#### Adicionando coluna de consumo total (Global_active_power * 1000 / 60 - Sub_metering_1 - Sub_metering_2 - Sub_metering_3)"
   ]
  },
  {
   "cell_type": "code",
   "execution_count": null,
   "metadata": {},
   "outputs": [],
   "source": [
    "house_hold_energy_2007[\"Energy_consumed\"] = house_hold_energy_2007[\"Global_active_power\"] * 1000 / 60 - house_hold_energy_2007[\"Sub_metering_1\"] - house_hold_energy_2007[\"Sub_metering_2\"] - house_hold_energy_2007[\"Sub_metering_3\"]\n",
    "house_hold_energy_2007.head(10)"
   ]
  },
  {
   "cell_type": "markdown",
   "metadata": {},
   "source": [
    "#### Renomeando Sub_meterings"
   ]
  },
  {
   "cell_type": "code",
   "execution_count": null,
   "metadata": {},
   "outputs": [],
   "source": [
    "rename_columns = {\n",
    "    \"Sub_metering_1\" : \"Kitchen\",\n",
    "    \"Sub_metering_2\" : \"Laundry_Room\",\n",
    "    \"Sub_metering_3\" : \"Heater_conditioner\"\n",
    "}"
   ]
  },
  {
   "cell_type": "code",
   "execution_count": null,
   "metadata": {},
   "outputs": [],
   "source": [
    "house_hold_energy_2007.rename(columns=rename_columns, inplace=True)"
   ]
  },
  {
   "cell_type": "code",
   "execution_count": null,
   "metadata": {},
   "outputs": [],
   "source": [
    "house_hold_energy_2007.head(10)"
   ]
  },
  {
   "cell_type": "markdown",
   "metadata": {},
   "source": [
    "#### Analisando dias da semana de Janeiro\n"
   ]
  },
  {
   "cell_type": "code",
   "execution_count": null,
   "metadata": {},
   "outputs": [],
   "source": [
    "import matplotlib.pyplot as plt"
   ]
  },
  {
   "cell_type": "code",
   "execution_count": null,
   "metadata": {},
   "outputs": [],
   "source": [
    "jan_energy = house_hold_energy_2007[house_hold_energy_2007[\"_time\"].dt.month == 1]\n",
    "jan_energy"
   ]
  },
  {
   "cell_type": "code",
   "execution_count": null,
   "metadata": {},
   "outputs": [],
   "source": [
    "def plot_lines_energy_consume(month_df, day_of_week, day):\n",
    "    day_week_df = month_df[month_df[\"_time\"].dt.dayofweek == day_of_week][[\"_time\", \"Energy_consumed\"]]\n",
    "    day_start = pd.to_datetime(day).date()\n",
    "    for i in range(4):\n",
    "        day_stop = (day_start + pd.DateOffset(days=6)).date()\n",
    "        if day_start.month == month_df['_time'].dt.month[0]:\n",
    "            week_df = day_week_df[(day_week_df[\"_time\"].dt.date >= day_start) & (day_week_df[\"_time\"].dt.date <= day_stop)]\n",
    "            week_df.plot(kind=\"line\", x=\"_time\", y=\"Energy_consumed\", figsize=(20,5))\n",
    "            day_start = day_stop\n",
    "    plt.show()"
   ]
  },
  {
   "cell_type": "code",
   "execution_count": null,
   "metadata": {},
   "outputs": [],
   "source": [
    "def plot_box_energy_consume(month_df, day_of_week, day):\n",
    "    day_week_df = month_df[month_df[\"_time\"].dt.dayofweek == day_of_week][[\"_time\", \"Energy_consumed\"]]\n",
    "    day_start = pd.to_datetime(day).date()\n",
    "    list_dfs = []\n",
    "    for i in range(4):\n",
    "        day_stop = (day_start + pd.DateOffset(days=6)).date()\n",
    "        if day_start.month == month_df['_time'].dt.month[0]:\n",
    "            week_df = day_week_df[(day_week_df[\"_time\"].dt.date >= day_start) & (day_week_df[\"_time\"].dt.date <= day_stop)]\n",
    "            week_df.plot(kind=\"box\", x=\"_time\", y=\"Energy_consumed\", figsize=(20,5))\n",
    "            day_start = day_stop\n",
    "    plt.show()"
   ]
  },
  {
   "cell_type": "markdown",
   "metadata": {},
   "source": [
    "- Domingos"
   ]
  },
  {
   "cell_type": "code",
   "execution_count": null,
   "metadata": {},
   "outputs": [],
   "source": [
    "plot_lines_energy_consume(jan_energy, 0, '2007-01-01')"
   ]
  },
  {
   "cell_type": "markdown",
   "metadata": {},
   "source": [
    "#### Interpretando um boxplot\n",
    "- Posição – Em relação à posição dos dados, observa-se a linha central do retângulo (a mediana ou segundo quartil).\n",
    "- Dispersão – A dispersão dos dados pode ser representada pelo intervalo interquartílico que é a diferença entre o terceiro quartil e o primeiro quartil (tamanho da caixa), ou ainda pela amplitude que é calculada da seguinte maneira: valor máximo – valor mínimo. Embora a amplitude seja de fácil entendimento, o intervalo interquartílico é uma  estatística mais robusta para medir variabilidade uma vez que não sofre influência de outliers.\n",
    "- Simetria – Um conjunto de dados que tem uma distribuição simétrica, terá a linha da mediana no centro do retângulo. Quando a linha da mediana está próxima ao primeiro quartil, os dados são assimétricos positivos e quando a posição da linha da mediana é próxima ao terceiro quartil, os dados são assimétricos negativos. Vale ressaltar que a mediana é a medida de tendência central mais indicada quando os dados possuem distribuição assimétrica, uma vez que a média aritmética é influenciada pelos valores extremos.\n",
    "- Caudas – As linhas que vão do retângulo até aos outliers podem fornecer o comprimento das caudas da distribuição.\n",
    "- Outliers – Já os outliers indicam possíveis valores discrepantes. No boxplot, as observações são consideradas outliers quando estão abaixo ou acima do limite de detecção de outliers."
   ]
  },
  {
   "cell_type": "markdown",
   "metadata": {},
   "source": [
    "##### Verificando outliers, mediana, simetria e dispersao com boxplot"
   ]
  },
  {
   "cell_type": "code",
   "execution_count": null,
   "metadata": {},
   "outputs": [],
   "source": [
    "plot_box_energy_consume(jan_energy, 0, '2007-01-01')"
   ]
  },
  {
   "cell_type": "markdown",
   "metadata": {},
   "source": [
    "- Segundas"
   ]
  },
  {
   "cell_type": "code",
   "execution_count": null,
   "metadata": {},
   "outputs": [],
   "source": [
    "plot_lines_energy_consume(jan_energy, 1, '2007-01-02')"
   ]
  },
  {
   "cell_type": "markdown",
   "metadata": {},
   "source": [
    "##### Verificando outliers, mediana, simetria e dispersao com boxplot"
   ]
  },
  {
   "cell_type": "code",
   "execution_count": null,
   "metadata": {},
   "outputs": [],
   "source": [
    "plot_box_energy_consume(jan_energy, 1, '2007-01-02')"
   ]
  },
  {
   "cell_type": "markdown",
   "metadata": {},
   "source": [
    "- Tercas"
   ]
  },
  {
   "cell_type": "code",
   "execution_count": null,
   "metadata": {},
   "outputs": [],
   "source": [
    "plot_lines_energy_consume(jan_energy, 2, '2007-01-03')"
   ]
  },
  {
   "cell_type": "markdown",
   "metadata": {},
   "source": [
    "##### Verificando outliers, mediana, simetria e dispersao com boxplot"
   ]
  },
  {
   "cell_type": "code",
   "execution_count": null,
   "metadata": {},
   "outputs": [],
   "source": [
    "plot_box_energy_consume(jan_energy, 2, '2007-01-03')"
   ]
  },
  {
   "cell_type": "markdown",
   "metadata": {},
   "source": [
    "- Quartas"
   ]
  },
  {
   "cell_type": "code",
   "execution_count": null,
   "metadata": {},
   "outputs": [],
   "source": [
    "plot_lines_energy_consume(jan_energy, 3, '2007-01-04')"
   ]
  },
  {
   "cell_type": "markdown",
   "metadata": {},
   "source": [
    "##### Verificando outliers, mediana, simetria e dispersao com boxplot"
   ]
  },
  {
   "cell_type": "code",
   "execution_count": null,
   "metadata": {},
   "outputs": [],
   "source": [
    "plot_box_energy_consume(jan_energy, 3, '2007-01-04')"
   ]
  },
  {
   "cell_type": "markdown",
   "metadata": {},
   "source": [
    "- Quintas"
   ]
  },
  {
   "cell_type": "code",
   "execution_count": null,
   "metadata": {},
   "outputs": [],
   "source": [
    "plot_lines_energy_consume(jan_energy, 4, '2007-01-05')"
   ]
  },
  {
   "cell_type": "markdown",
   "metadata": {},
   "source": [
    "##### Verificando outliers, mediana, simetria e dispersao com boxplot"
   ]
  },
  {
   "cell_type": "code",
   "execution_count": null,
   "metadata": {},
   "outputs": [],
   "source": [
    "plot_box_energy_consume(jan_energy, 4, '2007-01-05')"
   ]
  },
  {
   "cell_type": "markdown",
   "metadata": {},
   "source": [
    "- Sextas"
   ]
  },
  {
   "cell_type": "code",
   "execution_count": null,
   "metadata": {},
   "outputs": [],
   "source": [
    "plot_lines_energy_consume(jan_energy, 5, '2007-01-06')"
   ]
  },
  {
   "cell_type": "markdown",
   "metadata": {},
   "source": [
    "##### Verificando outliers, mediana, simetria e dispersao com boxplot"
   ]
  },
  {
   "cell_type": "code",
   "execution_count": null,
   "metadata": {},
   "outputs": [],
   "source": [
    "plot_box_energy_consume(jan_energy, 5, '2007-01-06')"
   ]
  },
  {
   "cell_type": "markdown",
   "metadata": {},
   "source": [
    "- Sabados"
   ]
  },
  {
   "cell_type": "code",
   "execution_count": null,
   "metadata": {},
   "outputs": [],
   "source": [
    "plot_lines_energy_consume(jan_energy, 6, '2007-01-07')"
   ]
  },
  {
   "cell_type": "markdown",
   "metadata": {},
   "source": [
    "##### Verificando outliers, mediana, simetria e dispersao com boxplot"
   ]
  },
  {
   "cell_type": "code",
   "execution_count": null,
   "metadata": {},
   "outputs": [],
   "source": [
    "plot_box_energy_consume(jan_energy, 6, '2007-01-07')"
   ]
  },
  {
   "cell_type": "markdown",
   "metadata": {},
   "source": [
    "#### Analisando consumo ao decorrer da semana"
   ]
  },
  {
   "cell_type": "markdown",
   "metadata": {},
   "source": [
    "##### Agrupando dados em dias"
   ]
  },
  {
   "cell_type": "code",
   "execution_count": null,
   "metadata": {},
   "outputs": [],
   "source": [
    "energy_per_day = house_hold_energy_2007.set_index('_time').resample('D').sum()\n",
    "energy_per_day"
   ]
  },
  {
   "cell_type": "code",
   "execution_count": null,
   "metadata": {},
   "outputs": [],
   "source": [
    "energy_per_day.index = energy_per_day.index.normalize()\n",
    "energy_per_day.head()"
   ]
  },
  {
   "cell_type": "code",
   "execution_count": null,
   "metadata": {},
   "outputs": [],
   "source": [
    "energy_per_day.index = pd.DatetimeIndex(energy_per_day.index.strftime('%Y-%m-%d'))\n",
    "energy_per_day"
   ]
  },
  {
   "cell_type": "code",
   "execution_count": null,
   "metadata": {},
   "outputs": [],
   "source": [
    "energy_per_day.reset_index(inplace=True)\n",
    "energy_per_day"
   ]
  },
  {
   "cell_type": "markdown",
   "metadata": {},
   "source": [
    "#### Selecionando somente os dados de Janeiro"
   ]
  },
  {
   "cell_type": "code",
   "execution_count": null,
   "metadata": {},
   "outputs": [],
   "source": [
    "jan_energy_per_day = energy_per_day[energy_per_day['_time'].dt.month == 1]\n",
    "jan_energy_per_day"
   ]
  },
  {
   "cell_type": "markdown",
   "metadata": {},
   "source": [
    "##### Analisando primeira semana de Janeiro"
   ]
  },
  {
   "cell_type": "code",
   "execution_count": null,
   "metadata": {},
   "outputs": [],
   "source": [
    "range_date = pd.date_range(\"2007-01-01\", \"2007-01-07\", freq=\"D\")"
   ]
  },
  {
   "cell_type": "code",
   "execution_count": null,
   "metadata": {},
   "outputs": [],
   "source": [
    "jan_first_week = jan_energy_per_day.loc[jan_energy_per_day['_time'].isin(range_date)]"
   ]
  },
  {
   "cell_type": "code",
   "execution_count": null,
   "metadata": {},
   "outputs": [],
   "source": [
    "jan_first_week[\"_time\"]"
   ]
  },
  {
   "cell_type": "code",
   "execution_count": null,
   "metadata": {},
   "outputs": [],
   "source": [
    "jan_first_week.plot(kind='line', x='_time', y='Energy_consumed', figsize=(20, 6));"
   ]
  },
  {
   "cell_type": "code",
   "execution_count": null,
   "metadata": {},
   "outputs": [],
   "source": [
    "range_date = pd.date_range(\"2007-01-08\", \"2007-01-15\", freq=\"D\")"
   ]
  },
  {
   "cell_type": "code",
   "execution_count": null,
   "metadata": {},
   "outputs": [],
   "source": [
    "jan_second_week = jan_energy_per_day.loc[jan_energy_per_day['_time'].isin(range_date)]"
   ]
  },
  {
   "cell_type": "code",
   "execution_count": null,
   "metadata": {},
   "outputs": [],
   "source": [
    "jan_second_week.plot(kind='line', x='_time', y='Energy_consumed', figsize=(20, 6));"
   ]
  }
 ],
 "metadata": {
  "kernelspec": {
   "display_name": ".venv",
   "language": "python",
   "name": "python3"
  },
  "language_info": {
   "codemirror_mode": {
    "name": "ipython",
    "version": 3
   },
   "file_extension": ".py",
   "mimetype": "text/x-python",
   "name": "python",
   "nbconvert_exporter": "python",
   "pygments_lexer": "ipython3",
   "version": "3.12.7"
  }
 },
 "nbformat": 4,
 "nbformat_minor": 2
}
