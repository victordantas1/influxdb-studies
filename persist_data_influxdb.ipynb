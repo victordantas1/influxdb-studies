{
 "cells": [
  {
   "cell_type": "markdown",
   "metadata": {},
   "source": [
    "## InfluxDB - Time Series Database"
   ]
  },
  {
   "cell_type": "markdown",
   "metadata": {},
   "source": [
    "InfluxDB é uma plataforma desenvolvida para coletar, armazenar, processar e visualizar dados de séries temporais."
   ]
  },
  {
   "cell_type": "markdown",
   "metadata": {},
   "source": [
    "Séries Temporais são uma sequencia de dados indexados por ordem de tempo"
   ]
  },
  {
   "cell_type": "markdown",
   "metadata": {},
   "source": [
    "Exemplos de uso:\n",
    "- Dados de sensores industriais\n",
    "- Métricas de desempenho do servidor\n",
    "- Batimentos cardíacos por minuto\n",
    "- Atividade elétrica no cérebro\n",
    "- Medições de precipitação\n",
    "- Preços de ações"
   ]
  },
  {
   "cell_type": "markdown",
   "metadata": {},
   "source": [
    "#### Conceitos Chave"
   ]
  },
  {
   "cell_type": "markdown",
   "metadata": {},
   "source": [
    "##### Organização dos dados"
   ]
  },
  {
   "cell_type": "markdown",
   "metadata": {},
   "source": [
    "- Bucket: Local nomeado onde os dados de séries temporais são armazenados. Um bucket pode conter várias medições.\n",
    "- Measurement: Agrupamento lógico para dados de séries temporais. Todos os pontos em uma determinada medição devem ter as mesmas tags. Uma medição contém várias tags e campos.\n",
    "- Tags: Pares de chave-valor com valores que diferem, mas não mudam com frequência. As tags são destinadas a armazenar metadados para cada ponto, por exemplo, algo para identificar a fonte dos dados, como host, local, estação, etc.\n",
    "- Fields: Pares de chave-valor com valores que mudam ao longo do tempo, por exemplo: temperatura, pressão, preço das ações, etc.\n",
    "- Timestamp: Timestamp associado aos dados. Quando armazenados em disco e consultados, todos os dados são ordenados por hora."
   ]
  },
  {
   "cell_type": "markdown",
   "metadata": {},
   "source": [
    "#### Lendo e tratando a base de dados"
   ]
  },
  {
   "cell_type": "code",
   "execution_count": null,
   "metadata": {},
   "outputs": [],
   "source": [
    "import pandas as pd\n",
    "import influxdb_client"
   ]
  },
  {
   "cell_type": "code",
   "execution_count": null,
   "metadata": {},
   "outputs": [],
   "source": [
    "dados = pd.read_csv('household_power_consumption_cp.csv', sep=';', low_memory=False)\n",
    "dados.head()"
   ]
  },
  {
   "cell_type": "code",
   "execution_count": null,
   "metadata": {},
   "outputs": [],
   "source": [
    "dados.info()"
   ]
  },
  {
   "cell_type": "markdown",
   "metadata": {},
   "source": [
    "#### Convertendo coluna datetime"
   ]
  },
  {
   "cell_type": "code",
   "execution_count": null,
   "metadata": {},
   "outputs": [],
   "source": [
    "dados['_time'] = pd.to_datetime(dados['Date'] + dados['Time'], format='%d/%m/%Y%H:%M:%S')\n",
    "dados.head()"
   ]
  },
  {
   "cell_type": "code",
   "execution_count": null,
   "metadata": {},
   "outputs": [],
   "source": [
    "dados.info()"
   ]
  },
  {
   "cell_type": "code",
   "execution_count": null,
   "metadata": {},
   "outputs": [],
   "source": [
    "dados.drop(columns=['Date', 'Time'], inplace=True)\n",
    "dados"
   ]
  },
  {
   "cell_type": "code",
   "execution_count": null,
   "metadata": {},
   "outputs": [],
   "source": [
    "dados.set_index('_time', inplace=True)"
   ]
  },
  {
   "cell_type": "code",
   "execution_count": null,
   "metadata": {},
   "outputs": [],
   "source": [
    "dados"
   ]
  },
  {
   "cell_type": "markdown",
   "metadata": {},
   "source": [
    "#### Instanciando InfluxDB Client"
   ]
  },
  {
   "cell_type": "code",
   "execution_count": null,
   "metadata": {},
   "outputs": [],
   "source": [
    "token = '80pzM9UJharBRVfSbBIfecydGJsX80ihx2IZsd7UmAZUhUumZTIiX9jUqQNytXPxeVuZlgLmHAY6JOyHnLZuJw=='\n",
    "url = 'http://localhost:8086'\n",
    "org = 'VCT'"
   ]
  },
  {
   "cell_type": "code",
   "execution_count": null,
   "metadata": {},
   "outputs": [],
   "source": [
    "write_client = influxdb_client.InfluxDBClient(url=url, token=token, org=org)"
   ]
  },
  {
   "cell_type": "code",
   "execution_count": null,
   "metadata": {},
   "outputs": [],
   "source": [
    "write_api = write_client.write_api()"
   ]
  },
  {
   "cell_type": "code",
   "execution_count": null,
   "metadata": {},
   "outputs": [],
   "source": [
    "bucket = 'HOUSE_HOLD_ENERGY'\n",
    "# write_api.write(bucket=bucket, org=org, record=dados, data_frame_measurement_name='house_energy')"
   ]
  }
 ],
 "metadata": {
  "kernelspec": {
   "display_name": ".venv",
   "language": "python",
   "name": "python3"
  },
  "language_info": {
   "codemirror_mode": {
    "name": "ipython",
    "version": 3
   },
   "file_extension": ".py",
   "mimetype": "text/x-python",
   "name": "python",
   "nbconvert_exporter": "python",
   "pygments_lexer": "ipython3",
   "version": "3.12.7"
  }
 },
 "nbformat": 4,
 "nbformat_minor": 2
}
